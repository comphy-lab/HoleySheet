{
 "cells": [
  {
   "cell_type": "code",
   "execution_count": null,
   "metadata": {},
   "outputs": [],
   "source": [
    "# Read f1.txt and f2.txt\n",
    "# Write function to get theta and sort it based on the value of theta\n",
    "# Find the theta at which film thickness start become minimum\n",
    "# Delete the data after that theta\n",
    "# Make a bridge between f1 and f2 and output as a single facet\n"
   ]
  },
  {
   "cell_type": "code",
   "execution_count": null,
   "metadata": {},
   "outputs": [],
   "source": [
    "import matplotlib.pyplot as plt\n",
    "import numpy as np"
   ]
  },
  {
   "cell_type": "code",
   "execution_count": null,
   "metadata": {},
   "outputs": [],
   "source": [
    "# function to read the files\n",
    "def readfile(filename):\n",
    "    with open('filename', 'r') as file:\n",
    "        lines = file.readlines()\n",
    "\n",
    "    # Extract x and y values from the file, filtering out invalid lines\n",
    "    x = []\n",
    "    y = []\n",
    "    for line in lines:\n",
    "        values = line.split()\n",
    "        if len(values) == 2:  \n",
    "            try:\n",
    "                x_val = float(values[0])\n",
    "                y_val = float(values[1])\n",
    "                x.append(x_val)\n",
    "                y.append(y_val)\n",
    "            except ValueError:\n",
    "                continue\n",
    "    dy_dx = np.arctan2(np.gradient(x), np.gradient(y))\n",
    "    sorted_indices = np.argsort(dy_dx)\n",
    "    return np.array(x)[sorted_indices], np.array(y)[sorted_indices], np.array(dy_dx)[sorted_indices]\n"
   ]
  }
 ],
 "metadata": {
  "language_info": {
   "name": "python"
  }
 },
 "nbformat": 4,
 "nbformat_minor": 2
}
